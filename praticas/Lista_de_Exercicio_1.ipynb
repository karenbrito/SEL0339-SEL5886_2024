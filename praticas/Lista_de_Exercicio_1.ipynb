{
  "nbformat": 4,
  "nbformat_minor": 0,
  "metadata": {
    "colab": {
      "provenance": [],
      "collapsed_sections": [
        "NyvxHviMpShq"
      ]
    },
    "kernelspec": {
      "name": "python3",
      "display_name": "Python 3"
    }
  },
  "cells": [
    {
      "cell_type": "markdown",
      "metadata": {
        "id": "kGlmyFQMaR-U"
      },
      "source": [
        "# Lista de Exercício 1\n",
        "### Visão Computacional (SEL0339/SEL5886)\n",
        "\n",
        "**Instruções:**\n",
        "\n",
        " 1. Esta lista consiste em 5 exercícios.\n",
        " 1. Deve-se colocar comentários nos códigos desenvolvidos.\n",
        " 1. As perguntas devem ser respondidas também como comentários no arquivo.\n",
        " 1. Colocar seu nome e número USP abaixo.\n",
        " 1. Quaisquer problemas na execução das listas, entrar em contato com os monitores.\n",
        " 1. Depois de terminados os exercícios, deve ser gerado um arquivo **extensão .ipynb** para ser enviado ao professor pelo E-DISCIPLINAS da disciplina até a data máxima de entrega.\n",
        " 1. Caso não seja enviado - ou identifique-se cópia - o aluno ficará sem nota.\n",
        "\n",
        "\n",
        "---\n",
        "\n",
        "\n",
        "\n",
        " <table class=\"tfo-notebook-buttons\" align=\"left\">\n",
        "  <td>\n",
        "    <a target=\"_blank\" href=\"https://colab.research.google.com/github/LAVI-USP/SEL0339-SEL5886_2024/blob/main/praticas/Lista_de_Exercicio_1.ipynb\"><img src=\"https://www.tensorflow.org/images/colab_logo_32px.png\" />Executar no Google Colab</a>\n",
        "  </td>\n",
        "  <td>\n",
        "    <a target=\"_blank\" href=\"https://github.com/LAVI-USP/SEL0339-SEL5886_2024/blob/main/praticas/Lista_de_Exercicio_1.ipynb\"><img src=\"https://www.tensorflow.org/images/GitHub-Mark-32px.png\" />Ver codigo fonte no GitHub</a>\n",
        "  </td>\n",
        "</table>\n",
        "\n"
      ]
    },
    {
      "cell_type": "markdown",
      "metadata": {
        "id": "L3qYz1dB-tlT"
      },
      "source": [
        "`Nome: `\n", Karen Sayang Silva de Brito
        "\n",
        "`Número USP: `" 12608386
      ]
    },
    {
      "cell_type": "markdown",
      "metadata": {
        "id": "b9uBe7nevota"
      },
      "source": [
        "### Introdução:\n",
        "\n",
        "Nesta lista serão abordados os temas resolução espacial e resolução de escala de cinza.\n",
        "\n",
        "Vamos importar as bibliotecas necessárias:"
      ]
    },
    {
      "cell_type": "code",
      "metadata": {
        "id": "xnKV2As4aCX1"
      },
      "source": [
        "import cv2 as cv\n",
        "import matplotlib.pyplot as plt\n",
        "import numpy as np"
      ],
      "execution_count": null,
      "outputs": []
    },
    {
      "cell_type": "markdown",
      "metadata": {
        "id": "NyvxHviMpShq"
      },
      "source": [
        "#### **Atenção**: os códigos abaixo são para fazer o download das imagens (EXECUTE-OS). Os mesmos não fazem parte desta prática."
      ]
    },
    {
      "cell_type": "code",
      "metadata": {
        "id": "Amk5CM273Afp"
      },
      "source": [
        "import urllib.request\n",
        "try:\n",
        "  urllib.request.urlretrieve(\"https://github.com/LAVI-USP/SEL0339-SEL5886_2024/raw/main/imagens/pratica_01/flower.png\", \"flower.png\")\n",
        "except:\n",
        "  print(\"[ERRO] Não foi possível fazer o download das imagens dessa prática. Entre em contato com o monitor\")\n",
        "\n",
        "try:\n",
        "  urllib.request.urlretrieve(\"https://github.com/LAVI-USP/SEL0339-SEL5886_2024/raw/main/imagens/pratica_01/xRay_hand.tif\", \"xRay_hand.tif\")\n",
        "except:\n",
        "  print(\"[ERRO] Não foi possível fazer o download das imagens dessa prática. Entre em contato com o monitor\")\n",
        "\n",
        "try:\n",
        "  urllib.request.urlretrieve(\"https://github.com/LAVI-USP/SEL0339-SEL5886_2024/raw/main/imagens/pratica_01/palavrascruzadas.png\", \"palavrascruzadas.png\")\n",
        "except:\n",
        "  print(\"[ERRO] Não foi possível fazer o download das imagens dessa prática. Entre em contato com o monitor\")\n",
        "\n",
        "try:\n",
        "  urllib.request.urlretrieve(\"https://github.com/LAVI-USP/SEL0339-SEL5886_2024/raw/main/imagens/pratica_01/board_ruido.tif\", \"board_ruido.tif\")\n",
        "except:\n",
        "  print(\"[ERRO] Não foi possível fazer o download das imagens dessa prática. Entre em contato com o monitor\")\n",
        "\n",
        "try:\n",
        "  urllib.request.urlretrieve(\"https://github.com/LAVI-USP/SEL0339-SEL5886_2024/raw/main/imagens/pratica_01/circuit.tif\", \"circuit.tif\")\n",
        "except:\n",
        "  print(\"[ERRO] Não foi possível fazer o download das imagens dessa prática. Entre em contato com o monitor\")"
      ],
      "execution_count": null,
      "outputs": []
    },
    {
      "cell_type": "markdown",
      "metadata": {
        "id": "ppupxqIr71zm"
      },
      "source": [
        "### 1) Resolução espacial (Nota: 2.0/10.0)\n",
        "\n",
        "1. Carregue o arquivo de imagem ```flower.png``` e mostre seu tamanho.\n",
        "2. Agora, vamos utilizar a função [cv.resize](https://docs.opencv.org/2.4/modules/imgproc/doc/geometric_transformations.html#void%20resize(InputArray%20src,%20OutputArray%20dst,%20Size%20dsize,%20double%20fx,%20double%20fy,%20int%20interpolation)) para mudar a resolução espacial da imagem lida. Pesquise sobre essa função e utilize-a para reduzir o tamanho da imagem para:\n",
        "\n",
        "  - ```290x290```\n",
        "  - ```175x175```\n",
        "  - ```105x105```\n",
        "  - ```85x85```\n",
        "  - ```30x30```\n",
        "  \n",
        "3. Mostre todas as imagens usando janelas do mesmo tamanho. Lembre-se que o tamanho real da imagem foi definido no item anterior com *cv.resize*, mas você pode escolher qual o tamanho mostrar na tela, em polegadas (a imagem será ajustada para se adequar ao tamanho escolhido). Para isto, faremos uso do *figsize* juntamente com *subplot*.\n",
        "\n",
        "4. Comente os resultados.\n",
        "\n",
        "**Dica:** Use o argumento *figsize* em ```plt.figure(figsize=(largura,altura))```, sendo largura e altura dadas em polegadas. Um bom número para se trabalhar é de 5 polegadas por imagem, assim em um plot de 1 linha por 5 colunas, uma sugestão seria utilizar ```plt.figure(figsize=(25,5))```."
      ]
    },
    {
      "cell_type": "code",
      "metadata": {
        "id": "v3zOxtTSjJh8"
      },
      "source": [
        "# Seu código começa aqui\n",
        "\n",
        "# Seu código termina aqui\n",
        "\n",
        "#Comentários:"
      ],
      "execution_count": null,
      "outputs": []
    },
    {
      "cell_type": "markdown",
      "metadata": {
        "id": "OcMh8xfE_EDX"
      },
      "source": [
        "### 2) Resolução de escala de cinza (Nota: 2.0/10.0)\n",
        "\n",
        "1. Agora vamos reduzir a resolução de níveis de cinza da imagem. Para isto, vamos usar uma função de nome ```transformaImg```, já disponibilizada a seguir. Comente o que cada linha da função está exercendo.\n",
        "\n",
        "2. Carregue o arquivo de imagem ```xRay_hand.tif```. Limite os valores máximo e mínimo do seu plot para ```vmin=0``` e ```vmax=255```.\n",
        "\n",
        "3. Reduza a escala de níveis de cinza da imagem ```xRay_hand.tif``` de 256 níveis para a resoluções abaixo. Mostre todas as imagens usando janelas de mesmo tamanho, assim como foi feito/explicado no exercício anterior.\n",
        "\n",
        "  - 128\n",
        "  - 64\n",
        "  - 16\n",
        "  - 4\n",
        "  - 2\n",
        "\n",
        "4. Comente os resultados obtidos.\n",
        "\n",
        "5. Explique:\n",
        "  * Qual o motivo da transformação da variável img para ```float32``` no início da função dada?\n",
        "  * Qual o motivo da linha ```res = 255*(res - res.min())/(res.max() - res.min())``` antes do retorno para ```uint8```?"
      ]
    },
    {
      "cell_type": "code",
      "metadata": {
        "id": "7ijwVq_bieYM"
      },
      "source": [
        "#1\n",
        "def transformaImg(img, grayLevel):\n",
        "  '''\n",
        "  Descrição: Transforma uma imagem para uma nova escala de cinza.\n",
        "\n",
        "  Entrada:\n",
        "    - img: Imagem de entrada (uint8).\n",
        "    - grayLevel: Nova escala de níveis de cinza desejada (uint8).\n",
        "\n",
        "  Saída:\n",
        "    - res: Imagem com nova escala de cinza (uint8)\n",
        "  '''\n",
        "\n",
        "  img_in = img.copy().astype('float32')\n",
        "\n",
        "  res = np.round( img_in * (grayLevel - 1) / 255.)\n",
        "\n",
        "  res = 255*(res - res.min())/(res.max() - res.min())\n",
        "\n",
        "  res = res.astype('uint8')\n",
        "\n",
        "  return res\n",
        "\n",
        "\n",
        "# Seu código começa aqui\n",
        "\n",
        "# Seu código termina aqui\n",
        "\n",
        "#Comentários:\n"
      ],
      "execution_count": null,
      "outputs": []
    },
    {
      "cell_type": "markdown",
      "metadata": {
        "id": "5A1nGUXRLJRZ"
      },
      "source": [
        "### 3) Alargamento de contrastre e binarização (Nota: 2.0/10.0)\n",
        "\n",
        "1. Visualize a imagem `palavrascruzadas.png`e mostre seu histograma utilizando a função:\n",
        "``` python\n",
        "plt.hist(myImg.flatten(),bins=XX,density=False,range=(0,255))\n",
        "```\n",
        "\n",
        "2. Agora vamos fazer um alargamento de contraste na imagem. Para isto, vamos usar uma função de nome alargCont, já disponibilizada a seguir. Comente o que cada linha da função está exercendo.\n",
        "\n",
        "3. Defina um limiar (*threshold*) para binarização na imagem com ajuste de contraste. Você deve encontrá-lo através do método do vale: observe o histograma e encontre a intensidade em que grandes grupos se separam, formando um vale. Este valor será seu *threshold*.\n",
        "\n",
        "4. Utilizando o limiar encontrado no item 3, implemente um código (com técnicas regulares de programação Python) que realize a operação de transformação da imagem lida no item 1 para uma imagem binária. O objetivo é separar ao máximo as peças (contendo letras) do fundo da imagem. Apresente a imagem binarizada resultante.\n",
        "\n",
        "Outra forma de binarizar a imagem é utilizando algoritmos que buscam um limiar (*threshold*) de forma automática. É o caso, por exemplo, do método de Otsu ([informações sobre o método aqui](https://docs.opencv.org/master/d7/d4d/tutorial_py_thresholding.html))\n",
        "\n",
        "  *   A função [cv.threshold](https://docs.opencv.org/master/d7/d1b/group__imgproc__misc.html#gae8a4a146d1ca78c626a53577199e9c57) [(exemplos aqui)](https://docs.opencv.org/master/d7/d4d/tutorial_py_thresholding.html) - permite fazer uso dessa técninca ao passar os argumentos conforme abaixo.\n",
        "  ``` python\n",
        "  th_value,img = cv.threshold(myImg, 0, 255, cv.THRESH_BINARY + cv.THRESH_OTSU)\n",
        "  ```\n",
        "  em que ```th_value``` receberá o valor do *threshold* encontrado e ```img``` a imagem binarizada\n",
        "\n",
        "5. Implemente um código (*utilizando a função cv.threshold com método de Otsu*) que realize a operação de binarização da imagem com ajuste de contraste do item 2. Apresente a imagem binarizada resultante.\n",
        "\n",
        "6. Comente os resultados, comparando as duas formas de encontrar o limiar (*threshold*).\n"
      ]
    },
    {
      "cell_type": "code",
      "metadata": {
        "id": "ghO24YN_Va1c"
      },
      "source": [
        "#1\n",
        "def alargCont(img):\n",
        "  '''\n",
        "  Entrada:\n",
        "    - img: Imagem de entrada (uint8).\n",
        "\n",
        "  Saída:\n",
        "    - img_out: Imagem com largamento de contraste (uint8)\n",
        "  '''\n",
        "\n",
        "  img = img.astype('float')\n",
        "  valMax = img.max()\n",
        "  valMin= img.min()\n",
        "\n",
        "  img_out = (img-valMin)*((255)/(valMax-valMin))\n",
        "  img_out = img_out.astype('uint8')\n",
        "\n",
        "  return img_out\n",
        "\n",
        "## -- Seu código começa AQUI -- ##\n",
        "\n",
        "\n",
        "## -- Seu código termina AQUI -- ##\n",
        "\n",
        "#Comentários:"
      ],
      "execution_count": null,
      "outputs": []
    },
    {
      "cell_type": "markdown",
      "source": [
        "### 4) Filtro Passa Baixa (Nota: 2.0/10.0)\n",
        "\n",
        "**Exercício:**\n",
        "\n",
        "1. A imagem ```board_ruido.tif``` está contaminada com ruído *gaussiano* de média zero e desvio padrão 100. Implemente um código que atenue o ruído da imagem dada utilizando:\n",
        "\n",
        "  *   Filtro da média ```3x3```.\n",
        "  *   Filtro da média ```7x7```.\n",
        "  *   Filtro da média ```12x12```.\n",
        "\n",
        "2. Comente os resultados.\n",
        "\n",
        "*Dicas:*\n",
        "\n",
        "*    Considere o exemplo do *kernel* $K$ de um filtro espacial da média apresentado abaixo:\n",
        "    \\begin{equation}\n",
        "    K = \\frac{1}{9}\n",
        "    \\begin{bmatrix}\n",
        "    1 & 1 & 1\\\\\n",
        "    1 & 1 & 1\\\\\n",
        "    1 & 1 & 1\n",
        "    \\end{bmatrix}\n",
        "    \\end{equation}\n",
        "\n",
        "    Pode-se utilizar a declaração de array da biblioteca *numpy* para declarar K como uma matriz da seguinte maneira:\n",
        "\n",
        "    ``` python\n",
        "    kernel = np.array(((1, 1, 1),\n",
        "                        (1, 1, 1),\n",
        "                        (1, 1, 1))) / 9\n",
        "    ```\n",
        " ou\n",
        "    ``` python\n",
        "    kernel = np.ones((3,3)) / 9\n",
        "    ```\n",
        "*   Utilize a função [cv.filter2D](https://docs.opencv.org/3.4/d4/d86/group__imgproc__filter.html#ga27c049795ce870216ddfb366086b5a04) para fazer a convolução com o *kernel*.\n",
        "\n",
        "    ``` python\n",
        "    cv.filter2D(myImg, -1, myKernel)\n",
        "    ```\n",
        "   \n",
        "*   Mostre as imagens na faixa de ```0-255 ```."
      ],
      "metadata": {
        "id": "cB-zNYzWZB7v"
      }
    },
    {
      "cell_type": "code",
      "source": [
        "## -- Seu código começa AQUI -- ##\n",
        "\n",
        "## -- Seu código termina AQUI -- ##\n",
        "\n",
        "#Comentários:"
      ],
      "metadata": {
        "id": "traV0dRjZBUH"
      },
      "execution_count": null,
      "outputs": []
    },
    {
      "cell_type": "markdown",
      "source": [
        "### 5) Filtro passa-alta e Filtro de aguçamento (Nota: 2.0/10.0)\n",
        "\n",
        "**Exercício:**\n",
        "\n",
        "1. Aplique o *kernel* de um filtro espacial passa-alta na imagem ```circuit.tif``` a fim de adquirir as altas frequências da imagem. Apresente a imagem resultante e, para melhor visualização, seu negativo. Você pode criar o filtro como orientado no exercício anterior, mas agora para passa-alta.\n",
        "\n",
        "2. Modifique esse *kernel* a fim de torná-lo um filtro de aguçamento e aplique-o na imagem. Apresente a imagem resultante e comente os resultados."
      ],
      "metadata": {
        "id": "J9lRaiyQbbGQ"
      }
    },
    {
      "cell_type": "code",
      "source": [
        "## -- Seu código começa AQUI -- ##\n",
        "\n",
        "\n",
        "## -- Seu código termina AQUI -- ##\n",
        "\n",
        "#Comentários:"
      ],
      "metadata": {
        "id": "GaL4e1Uhbd5m"
      },
      "execution_count": null,
      "outputs": []
    }
  ]
}
